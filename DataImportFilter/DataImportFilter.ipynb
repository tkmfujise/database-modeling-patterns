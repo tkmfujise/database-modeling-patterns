{
 "cells": [
  {
   "cell_type": "markdown",
   "id": "652b9c67-7ae6-4714-b578-58cdfa0e2d35",
   "metadata": {},
   "source": [
    "# DataImportFilter"
   ]
  },
  {
   "cell_type": "code",
   "execution_count": 1,
   "id": "1d1a72b0-c5d4-4365-8841-63007fce15d2",
   "metadata": {
    "tags": []
   },
   "outputs": [],
   "source": [
    "using DataFramesMeta, CSV, Kroki\n",
    "dir = pwd() * \"/\";"
   ]
  },
  {
   "cell_type": "code",
   "execution_count": 2,
   "id": "f99003ae-7fe5-46d1-a702-9685255b563f",
   "metadata": {
    "tags": []
   },
   "outputs": [
    {
     "data": {
      "image/png": "[encoded data removed]",
      "image/svg+xml": [
       "<?xml version=\"1.0\" encoding=\"us-ascii\" standalone=\"no\"?><svg xmlns=\"http://www.w3.org/2000/svg\" xmlns:xlink=\"http://www.w3.org/1999/xlink\" contentStyleType=\"text/css\" height=\"157px\" preserveAspectRatio=\"none\" style=\"width:730px;height:157px;background:#FFFFFF;\" version=\"1.1\" viewBox=\"0 0 730 157\" width=\"730px\" zoomAndPan=\"magnify\"><defs/><g><!--class DataImportTarget--><g id=\"elem_DataImportTarget\"><rect codeLine=\"1\" fill=\"#F1F1F1\" height=\"72.5938\" id=\"DataImportTarget\" rx=\"2.5\" ry=\"2.5\" style=\"stroke:#181818;stroke-width:0.5;\" width=\"153\" x=\"9\" y=\"77.5\"/><ellipse cx=\"24\" cy=\"93.5\" fill=\"#ADD1B2\" rx=\"11\" ry=\"11\" style=\"stroke:#181818;stroke-width:1.0;\"/><path d=\"M26.9688,99.1406 Q26.3906,99.4375 25.75,99.5781 Q25.1094,99.7344 24.4063,99.7344 Q21.9063,99.7344 20.5781,98.0938 Q19.2656,96.4375 19.2656,93.3125 Q19.2656,90.1875 20.5781,88.5313 Q21.9063,86.875 24.4063,86.875 Q25.1094,86.875 25.75,87.0313 Q26.4063,87.1875 26.9688,87.4844 L26.9688,90.2031 Q26.3438,89.625 25.75,89.3594 Q25.1563,89.0781 24.5313,89.0781 Q23.1875,89.0781 22.5,90.1563 Q21.8125,91.2188 21.8125,93.3125 Q21.8125,95.4063 22.5,96.4844 Q23.1875,97.5469 24.5313,97.5469 Q25.1563,97.5469 25.75,97.2813 Q26.3438,97 26.9688,96.4219 L26.9688,99.1406 Z \" fill=\"#000000\"/><text fill=\"#000000\" font-family=\"sans-serif\" font-size=\"14\" lengthAdjust=\"spacing\" textLength=\"121\" x=\"38\" y=\"98.3467\">DataImportTarget</text><line style=\"stroke:#181818;stroke-width:0.5;\" x1=\"10\" x2=\"161\" y1=\"109.5\" y2=\"109.5\"/><polygon fill=\"none\" points=\"20,119.1484,16,125.1484,24,125.1484\" style=\"stroke:#1963A0;stroke-width:1.0;\"/><text fill=\"#000000\" font-family=\"sans-serif\" font-size=\"14\" lengthAdjust=\"spacing\" textLength=\"12\" x=\"29\" y=\"126.4951\">id</text><ellipse cx=\"20\" cy=\"139.4453\" fill=\"none\" rx=\"3\" ry=\"3\" style=\"stroke:#038048;stroke-width:1.0;\"/><text fill=\"#000000\" font-family=\"sans-serif\" font-size=\"14\" lengthAdjust=\"spacing\" textLength=\"39\" x=\"29\" y=\"142.792\">name</text></g><!--class DataImportConditionOperator--><g id=\"elem_DataImportConditionOperator\"><rect codeLine=\"5\" fill=\"#F1F1F1\" height=\"105.1875\" id=\"DataImportConditionOperator\" rx=\"2.5\" ry=\"2.5\" style=\"stroke:#181818;stroke-width:0.5;\" width=\"235\" x=\"238\" y=\"45\"/><ellipse cx=\"253\" cy=\"61\" fill=\"#ADD1B2\" rx=\"11\" ry=\"11\" style=\"stroke:#181818;stroke-width:1.0;\"/><path d=\"M255.9688,66.6406 Q255.3906,66.9375 254.75,67.0781 Q254.1094,67.2344 253.4063,67.2344 Q250.9063,67.2344 249.5781,65.5938 Q248.2656,63.9375 248.2656,60.8125 Q248.2656,57.6875 249.5781,56.0313 Q250.9063,54.375 253.4063,54.375 Q254.1094,54.375 254.75,54.5313 Q255.4063,54.6875 255.9688,54.9844 L255.9688,57.7031 Q255.3438,57.125 254.75,56.8594 Q254.1563,56.5781 253.5313,56.5781 Q252.1875,56.5781 251.5,57.6563 Q250.8125,58.7188 250.8125,60.8125 Q250.8125,62.9063 251.5,63.9844 Q252.1875,65.0469 253.5313,65.0469 Q254.1563,65.0469 254.75,64.7813 Q255.3438,64.5 255.9688,63.9219 L255.9688,66.6406 Z \" fill=\"#000000\"/><text fill=\"#000000\" font-family=\"sans-serif\" font-size=\"14\" lengthAdjust=\"spacing\" textLength=\"203\" x=\"267\" y=\"65.8467\">DataImportConditionOperator</text><line style=\"stroke:#181818;stroke-width:0.5;\" x1=\"239\" x2=\"472\" y1=\"77\" y2=\"77\"/><polygon fill=\"none\" points=\"249,86.6484,245,92.6484,253,92.6484\" style=\"stroke:#1963A0;stroke-width:1.0;\"/><text fill=\"#000000\" font-family=\"sans-serif\" font-size=\"14\" lengthAdjust=\"spacing\" textLength=\"12\" x=\"258\" y=\"93.9951\">id</text><polygon fill=\"none\" points=\"249,101.9453,253,105.9453,249,109.9453,245,105.9453\" style=\"stroke:#B38D22;stroke-width:1.0;\"/><text fill=\"#000000\" font-family=\"sans-serif\" font-size=\"14\" lengthAdjust=\"spacing\" textLength=\"82\" x=\"258\" y=\"110.292\">parent_type</text><rect fill=\"none\" height=\"6\" style=\"stroke:#C82930;stroke-width:1.0;\" width=\"6\" x=\"246\" y=\"120.2422\"/><text fill=\"#000000\" font-family=\"sans-serif\" font-size=\"14\" lengthAdjust=\"spacing\" textLength=\"64\" x=\"258\" y=\"126.5889\">parent_id</text><ellipse cx=\"249\" cy=\"139.5391\" fill=\"none\" rx=\"3\" ry=\"3\" style=\"stroke:#038048;stroke-width:1.0;\"/><text fill=\"#000000\" font-family=\"sans-serif\" font-size=\"14\" lengthAdjust=\"spacing\" textLength=\"66\" x=\"258\" y=\"142.8857\">operation</text></g><!--class DataImportCondition--><g id=\"elem_DataImportCondition\"><rect codeLine=\"11\" fill=\"#F1F1F1\" height=\"121.4844\" id=\"DataImportCondition\" rx=\"2.5\" ry=\"2.5\" style=\"stroke:#181818;stroke-width:0.5;\" width=\"174\" x=\"549\" y=\"29\"/><ellipse cx=\"564\" cy=\"45\" fill=\"#ADD1B2\" rx=\"11\" ry=\"11\" style=\"stroke:#181818;stroke-width:1.0;\"/><path d=\"M566.9688,50.6406 Q566.3906,50.9375 565.75,51.0781 Q565.1094,51.2344 564.4063,51.2344 Q561.9063,51.2344 560.5781,49.5938 Q559.2656,47.9375 559.2656,44.8125 Q559.2656,41.6875 560.5781,40.0313 Q561.9063,38.375 564.4063,38.375 Q565.1094,38.375 565.75,38.5313 Q566.4063,38.6875 566.9688,38.9844 L566.9688,41.7031 Q566.3438,41.125 565.75,40.8594 Q565.1563,40.5781 564.5313,40.5781 Q563.1875,40.5781 562.5,41.6563 Q561.8125,42.7188 561.8125,44.8125 Q561.8125,46.9063 562.5,47.9844 Q563.1875,49.0469 564.5313,49.0469 Q565.1563,49.0469 565.75,48.7813 Q566.3438,48.5 566.9688,47.9219 L566.9688,50.6406 Z \" fill=\"#000000\"/><text fill=\"#000000\" font-family=\"sans-serif\" font-size=\"14\" lengthAdjust=\"spacing\" textLength=\"142\" x=\"578\" y=\"49.8467\">DataImportCondition</text><line style=\"stroke:#181818;stroke-width:0.5;\" x1=\"550\" x2=\"722\" y1=\"61\" y2=\"61\"/><polygon fill=\"none\" points=\"560,70.6484,556,76.6484,564,76.6484\" style=\"stroke:#1963A0;stroke-width:1.0;\"/><text fill=\"#000000\" font-family=\"sans-serif\" font-size=\"14\" lengthAdjust=\"spacing\" textLength=\"12\" x=\"569\" y=\"77.9951\">id</text><rect fill=\"none\" height=\"6\" style=\"stroke:#C82930;stroke-width:1.0;\" width=\"6\" x=\"557\" y=\"87.9453\"/><text fill=\"#000000\" font-family=\"sans-serif\" font-size=\"14\" lengthAdjust=\"spacing\" textLength=\"78\" x=\"569\" y=\"94.292\">operator_id</text><ellipse cx=\"560\" cy=\"107.2422\" fill=\"none\" rx=\"3\" ry=\"3\" style=\"stroke:#038048;stroke-width:1.0;\"/><text fill=\"#000000\" font-family=\"sans-serif\" font-size=\"14\" lengthAdjust=\"spacing\" textLength=\"51\" x=\"569\" y=\"110.5889\">column</text><ellipse cx=\"560\" cy=\"123.5391\" fill=\"none\" rx=\"3\" ry=\"3\" style=\"stroke:#038048;stroke-width:1.0;\"/><text fill=\"#000000\" font-family=\"sans-serif\" font-size=\"14\" lengthAdjust=\"spacing\" textLength=\"29\" x=\"569\" y=\"126.8857\">filter</text><ellipse cx=\"560\" cy=\"139.8359\" fill=\"none\" rx=\"3\" ry=\"3\" style=\"stroke:#038048;stroke-width:1.0;\"/><text fill=\"#000000\" font-family=\"sans-serif\" font-size=\"14\" lengthAdjust=\"spacing\" textLength=\"36\" x=\"569\" y=\"143.1826\">value</text></g><!--link DataImportTarget to DataImportConditionOperator--><g id=\"link_DataImportTarget_DataImportConditionOperator\"><path codeLine=\"21\" d=\"M171.36,121.5 C195.07,121.5 204.95,121.5 228.66,121.5 \" fill=\"none\" id=\"DataImportTarget-DataImportConditionOperator\" style=\"stroke:#181818;stroke-width:1.0;\"/><line style=\"stroke:#181818;stroke-width:1.0;\" x1=\"168.5\" x2=\"168.5\" y1=\"125.5\" y2=\"117.5\"/><line style=\"stroke:#181818;stroke-width:1.0;\" x1=\"171.5\" x2=\"171.5\" y1=\"125.5\" y2=\"117.5\"/><line style=\"stroke:#181818;stroke-width:1.0;\" x1=\"172.5\" x2=\"164.5\" y1=\"121.5\" y2=\"121.5\"/><line style=\"stroke:#181818;stroke-width:1.0;\" x1=\"231.5\" x2=\"231.5\" y1=\"117.5\" y2=\"125.5\"/><line style=\"stroke:#181818;stroke-width:1.0;\" x1=\"228.5\" x2=\"228.5\" y1=\"117.5\" y2=\"125.5\"/><line style=\"stroke:#181818;stroke-width:1.0;\" x1=\"227.5\" x2=\"235.5\" y1=\"121.5\" y2=\"121.5\"/></g><!--link DataImportConditionOperator to DataImportConditionOperator--><g id=\"link_DataImportConditionOperator_DataImportConditionOperator\"><path codeLine=\"22\" d=\"M305.91,32.4 C310.05,17.2 326.58,6 355.5,6 C384.42,6 400.95,17.2 405.09,32.4 \" fill=\"none\" id=\"DataImportConditionOperator-DataImportConditionOperator\" style=\"stroke:#181818;stroke-width:1.0;\"/><line style=\"stroke:#181818;stroke-width:1.0;\" x1=\"309.3274\" x2=\"301.3815\" y1=\"36.7015\" y2=\"35.7726\"/><line style=\"stroke:#181818;stroke-width:1.0;\" x1=\"309.6758\" x2=\"301.7299\" y1=\"33.7218\" y2=\"32.7929\"/><line style=\"stroke:#181818;stroke-width:1.0;\" x1=\"305.8189\" x2=\"304.89\" y1=\"32.2641\" y2=\"40.21\"/><line style=\"stroke:#181818;stroke-width:1.0;\" x1=\"405.1811\" x2=\"414.0559\" y1=\"32.2641\" y2=\"40.21\"/><line style=\"stroke:#181818;stroke-width:1.0;\" x1=\"405.1811\" x2=\"398.1641\" y1=\"32.2641\" y2=\"40.21\"/><line style=\"stroke:#181818;stroke-width:1.0;\" x1=\"405.1811\" x2=\"406.11\" y1=\"32.2641\" y2=\"40.21\"/></g><!--link DataImportConditionOperator to DataImportCondition--><g id=\"link_DataImportConditionOperator_DataImportCondition\"><path codeLine=\"23\" d=\"M483.41,88.5 C506.3,88.5 516.34,88.5 539.3,88.5 \" fill=\"none\" id=\"DataImportConditionOperator-DataImportCondition\" style=\"stroke:#181818;stroke-width:1.0;\"/><line style=\"stroke:#181818;stroke-width:1.0;\" x1=\"479.5\" x2=\"479.5\" y1=\"92.5\" y2=\"84.5\"/><line style=\"stroke:#181818;stroke-width:1.0;\" x1=\"482.5\" x2=\"482.5\" y1=\"92.5\" y2=\"84.5\"/><line style=\"stroke:#181818;stroke-width:1.0;\" x1=\"483.5\" x2=\"475.5\" y1=\"88.5\" y2=\"88.5\"/><line style=\"stroke:#181818;stroke-width:1.0;\" x1=\"539\" x2=\"547\" y1=\"88.5\" y2=\"80.5\"/><line style=\"stroke:#181818;stroke-width:1.0;\" x1=\"539\" x2=\"547\" y1=\"88.5\" y2=\"96.5\"/><line style=\"stroke:#181818;stroke-width:1.0;\" x1=\"539\" x2=\"547\" y1=\"88.5\" y2=\"88.5\"/></g><!--SRC=[VP312i8m38RlVOg0HzaBzAeNJrwyIrcphT0s8uk2hFhiRgCw6TAUcf3_ov-_zcOOu6Z4d49FB1V3BGgC2gRt0cUNpnwY2QYUgjwC7oXQ9uxYkKSsGhnLxg0tZ56kykXnwLIVpfTDYtQ2b1PimLMM4Q-Wclmjn5mqpWjoBkx6tsR_dRC80QKZEoYFZO0Gi6ix0UiOwyM5siQXjREGKbMbLBfTw_MoKaGpQIo1L759zlANeFLFAcy0]--></g></svg>"
      ],
      "text/plain": [
       "     ,----------------.      \n",
       "     |DataImportTarget|      \n",
       "     |----------------|      \n",
       "     |~ id            |      \n",
       "     |+ name          |      \n",
       "     `----------------'      \n",
       "              |              \n",
       "              |              \n",
       ",---------------------------.\n",
       "|DataImportConditionOperator|\n",
       "|---------------------------|\n",
       "|~ id                       |\n",
       "|# parent_type              |\n",
       "|- parent_id                |\n",
       "|+ operation                |\n",
       "`---------------------------'\n",
       "              |              \n",
       "    ,-------------------.    \n",
       "    |DataImportCondition|    \n",
       "    |-------------------|    \n",
       "    |~ id               |    \n",
       "    |- operator_id      |    \n",
       "    |+ column           |    \n",
       "    |+ filter           |    \n",
       "    |+ value            |    \n",
       "    `-------------------'    \n"
      ]
     },
     "execution_count": 2,
     "metadata": {},
     "output_type": "execute_result"
    }
   ],
   "source": [
    "plantuml\"\"\"\n",
    "class DataImportTarget {\n",
    "    ~ id\n",
    "    + name\n",
    "}\n",
    "class DataImportConditionOperator {\n",
    "    ~ id\n",
    "    # parent_type\n",
    "    - parent_id\n",
    "    + operation\n",
    "}\n",
    "class DataImportCondition {\n",
    "    ~ id\n",
    "    - operator_id\n",
    "    + column\n",
    "    + filter\n",
    "    + value\n",
    "}\n",
    "hide methods\n",
    "left to right direction\n",
    "\n",
    "DataImportTarget::id ||--|| DataImportConditionOperator::parent_id\n",
    "DataImportConditionOperator ||--{ DataImportConditionOperator\n",
    "DataImportConditionOperator::id ||--{ DataImportCondition::operator_id\n",
    "\"\"\""
   ]
  },
  {
   "cell_type": "markdown",
   "id": "f5a8683c-2985-4b9a-90fb-2e4530e0a33a",
   "metadata": {
    "tags": []
   },
   "source": [
    "## Example"
   ]
  },
  {
   "cell_type": "code",
   "execution_count": 3,
   "id": "45a78b29-8f65-4bad-9c4c-82e75b989f15",
   "metadata": {
    "tags": []
   },
   "outputs": [
    {
     "data": {
      "text/html": [
       "<div><div style = \"float: left;\"><span>1×2 DataFrame</span></div><div style = \"clear: both;\"></div></div><div class = \"data-frame\" style = \"overflow-x: scroll;\"><table class = \"data-frame\" style = \"margin-bottom: 6px;\"><thead><tr class = \"header\"><th class = \"rowNumber\" style = \"font-weight: bold; text-align: right;\">Row</th><th style = \"text-align: left;\">id</th><th style = \"text-align: left;\">name</th></tr><tr class = \"subheader headerLastRow\"><th class = \"rowNumber\" style = \"font-weight: bold; text-align: right;\"></th><th title = \"Int64\" style = \"text-align: left;\">Int64</th><th title = \"String7\" style = \"text-align: left;\">String7</th></tr></thead><tbody><tr><td class = \"rowNumber\" style = \"font-weight: bold; text-align: right;\">1</td><td style = \"text-align: right;\">1</td><td style = \"text-align: left;\">Items</td></tr></tbody></table></div>"
      ],
      "text/latex": [
       "\\begin{tabular}{r|cc}\n",
       "\t& id & name\\\\\n",
       "\t\\hline\n",
       "\t& Int64 & String7\\\\\n",
       "\t\\hline\n",
       "\t1 & 1 & Items \\\\\n",
       "\\end{tabular}\n"
      ],
      "text/plain": [
       "\u001b[1m1×2 DataFrame\u001b[0m\n",
       "\u001b[1m Row \u001b[0m│\u001b[1m id    \u001b[0m\u001b[1m name    \u001b[0m\n",
       "     │\u001b[90m Int64 \u001b[0m\u001b[90m String7 \u001b[0m\n",
       "─────┼────────────────\n",
       "   1 │     1  Items"
      ]
     },
     "execution_count": 3,
     "metadata": {},
     "output_type": "execute_result"
    }
   ],
   "source": [
    "# data_import_targets\n",
    "data_import_targets = CSV.read(dir * \"data_import_targets.csv\", DataFrame)"
   ]
  },
  {
   "cell_type": "code",
   "execution_count": 4,
   "id": "941ef30a-1dbf-485f-8fd8-4ecdd05ff8a3",
   "metadata": {
    "tags": []
   },
   "outputs": [
    {
     "data": {
      "text/html": [
       "<div><div style = \"float: left;\"><span>8×5 DataFrame</span></div><div style = \"clear: both;\"></div></div><div class = \"data-frame\" style = \"overflow-x: scroll;\"><table class = \"data-frame\" style = \"margin-bottom: 6px;\"><thead><tr class = \"header\"><th class = \"rowNumber\" style = \"font-weight: bold; text-align: right;\">Row</th><th style = \"text-align: left;\">id</th><th style = \"text-align: left;\">parent_type</th><th style = \"text-align: left;\">parent_id</th><th style = \"text-align: left;\">operation</th><th style = \"text-align: left;\">name</th></tr><tr class = \"subheader headerLastRow\"><th class = \"rowNumber\" style = \"font-weight: bold; text-align: right;\"></th><th title = \"Int64\" style = \"text-align: left;\">Int64</th><th title = \"String31\" style = \"text-align: left;\">String31</th><th title = \"Int64\" style = \"text-align: left;\">Int64</th><th title = \"String3\" style = \"text-align: left;\">String3</th><th title = \"String31\" style = \"text-align: left;\">String31</th></tr></thead><tbody><tr><td class = \"rowNumber\" style = \"font-weight: bold; text-align: right;\">1</td><td style = \"text-align: right;\">1</td><td style = \"text-align: left;\">DataImportTarget</td><td style = \"text-align: right;\">1</td><td style = \"text-align: left;\">AND</td><td style = \"text-align: left;\">Base condition</td></tr><tr><td class = \"rowNumber\" style = \"font-weight: bold; text-align: right;\">2</td><td style = \"text-align: right;\">2</td><td style = \"text-align: left;\">DataImportConditionOperator</td><td style = \"text-align: right;\">1</td><td style = \"text-align: left;\">AND</td><td style = \"text-align: left;\">Common condition</td></tr><tr><td class = \"rowNumber\" style = \"font-weight: bold; text-align: right;\">3</td><td style = \"text-align: right;\">3</td><td style = \"text-align: left;\">DataImportConditionOperator</td><td style = \"text-align: right;\">1</td><td style = \"text-align: left;\">OR</td><td style = \"text-align: left;\">Any condition</td></tr><tr><td class = \"rowNumber\" style = \"font-weight: bold; text-align: right;\">4</td><td style = \"text-align: right;\">4</td><td style = \"text-align: left;\">DataImportConditionOperator</td><td style = \"text-align: right;\">3</td><td style = \"text-align: left;\">AND</td><td style = \"text-align: left;\">Type A</td></tr><tr><td class = \"rowNumber\" style = \"font-weight: bold; text-align: right;\">5</td><td style = \"text-align: right;\">5</td><td style = \"text-align: left;\">DataImportConditionOperator</td><td style = \"text-align: right;\">3</td><td style = \"text-align: left;\">AND</td><td style = \"text-align: left;\">Type B</td></tr><tr><td class = \"rowNumber\" style = \"font-weight: bold; text-align: right;\">6</td><td style = \"text-align: right;\">6</td><td style = \"text-align: left;\">DataImportConditionOperator</td><td style = \"text-align: right;\">3</td><td style = \"text-align: left;\">OR</td><td style = \"text-align: left;\">Type C</td></tr><tr><td class = \"rowNumber\" style = \"font-weight: bold; text-align: right;\">7</td><td style = \"text-align: right;\">7</td><td style = \"text-align: left;\">DataImportConditionOperator</td><td style = \"text-align: right;\">6</td><td style = \"text-align: left;\">AND</td><td style = \"text-align: left;\">Type C-1</td></tr><tr><td class = \"rowNumber\" style = \"font-weight: bold; text-align: right;\">8</td><td style = \"text-align: right;\">8</td><td style = \"text-align: left;\">DataImportConditionOperator</td><td style = \"text-align: right;\">6</td><td style = \"text-align: left;\">AND</td><td style = \"text-align: left;\">Type C-2</td></tr></tbody></table></div>"
      ],
      "text/latex": [
       "\\begin{tabular}{r|ccccc}\n",
       "\t& id & parent\\_type & parent\\_id & operation & name\\\\\n",
       "\t\\hline\n",
       "\t& Int64 & String31 & Int64 & String3 & String31\\\\\n",
       "\t\\hline\n",
       "\t1 & 1 & DataImportTarget & 1 & AND & Base condition \\\\\n",
       "\t2 & 2 & DataImportConditionOperator & 1 & AND & Common condition \\\\\n",
       "\t3 & 3 & DataImportConditionOperator & 1 & OR & Any condition \\\\\n",
       "\t4 & 4 & DataImportConditionOperator & 3 & AND & Type A \\\\\n",
       "\t5 & 5 & DataImportConditionOperator & 3 & AND & Type B \\\\\n",
       "\t6 & 6 & DataImportConditionOperator & 3 & OR & Type C \\\\\n",
       "\t7 & 7 & DataImportConditionOperator & 6 & AND & Type C-1 \\\\\n",
       "\t8 & 8 & DataImportConditionOperator & 6 & AND & Type C-2 \\\\\n",
       "\\end{tabular}\n"
      ],
      "text/plain": [
       "\u001b[1m8×5 DataFrame\u001b[0m\n",
       "\u001b[1m Row \u001b[0m│\u001b[1m id    \u001b[0m\u001b[1m parent_type                 \u001b[0m\u001b[1m parent_id \u001b[0m\u001b[1m operation \u001b[0m\u001b[1m name         \u001b[0m ⋯\n",
       "     │\u001b[90m Int64 \u001b[0m\u001b[90m String31                    \u001b[0m\u001b[90m Int64     \u001b[0m\u001b[90m String3   \u001b[0m\u001b[90m String31     \u001b[0m ⋯\n",
       "─────┼──────────────────────────────────────────────────────────────────────────\n",
       "   1 │     1  DataImportTarget                     1  AND        Base conditio ⋯\n",
       "   2 │     2  DataImportConditionOperator          1  AND        Common condit\n",
       "   3 │     3  DataImportConditionOperator          1  OR         Any condition\n",
       "   4 │     4  DataImportConditionOperator          3  AND        Type A\n",
       "   5 │     5  DataImportConditionOperator          3  AND        Type B        ⋯\n",
       "   6 │     6  DataImportConditionOperator          3  OR         Type C\n",
       "   7 │     7  DataImportConditionOperator          6  AND        Type C-1\n",
       "   8 │     8  DataImportConditionOperator          6  AND        Type C-2\n",
       "\u001b[36m                                                                1 column omitted\u001b[0m"
      ]
     },
     "execution_count": 4,
     "metadata": {},
     "output_type": "execute_result"
    }
   ],
   "source": [
    "# data_import_condition_operators\n",
    "data_import_condition_operators = CSV.read(dir * \"data_import_condition_operators.csv\", DataFrame)"
   ]
  },
  {
   "cell_type": "code",
   "execution_count": 5,
   "id": "1d3f2526-69d8-4e81-b31f-c6fbfefa1b7a",
   "metadata": {
    "tags": []
   },
   "outputs": [
    {
     "data": {
      "text/html": [
       "<div><div style = \"float: left;\"><span>6×5 DataFrame</span></div><div style = \"clear: both;\"></div></div><div class = \"data-frame\" style = \"overflow-x: scroll;\"><table class = \"data-frame\" style = \"margin-bottom: 6px;\"><thead><tr class = \"header\"><th class = \"rowNumber\" style = \"font-weight: bold; text-align: right;\">Row</th><th style = \"text-align: left;\">id</th><th style = \"text-align: left;\">operator_id</th><th style = \"text-align: left;\">column</th><th style = \"text-align: left;\">filter</th><th style = \"text-align: left;\">value</th></tr><tr class = \"subheader headerLastRow\"><th class = \"rowNumber\" style = \"font-weight: bold; text-align: right;\"></th><th title = \"Int64\" style = \"text-align: left;\">Int64</th><th title = \"Int64\" style = \"text-align: left;\">Int64</th><th title = \"String15\" style = \"text-align: left;\">String15</th><th title = \"String7\" style = \"text-align: left;\">String7</th><th title = \"String31\" style = \"text-align: left;\">String31</th></tr></thead><tbody><tr><td class = \"rowNumber\" style = \"font-weight: bold; text-align: right;\">1</td><td style = \"text-align: right;\">1</td><td style = \"text-align: right;\">2</td><td style = \"text-align: left;\">name</td><td style = \"text-align: left;\">matches</td><td style = \"text-align: left;\">^[^\\\\*]</td></tr><tr><td class = \"rowNumber\" style = \"font-weight: bold; text-align: right;\">2</td><td style = \"text-align: right;\">2</td><td style = \"text-align: right;\">2</td><td style = \"text-align: left;\">created_at</td><td style = \"text-align: left;\">lteq</td><td style = \"text-align: left;\">2020-01-01 00:00:00</td></tr><tr><td class = \"rowNumber\" style = \"font-weight: bold; text-align: right;\">3</td><td style = \"text-align: right;\">3</td><td style = \"text-align: right;\">4</td><td style = \"text-align: left;\">category</td><td style = \"text-align: left;\">eq</td><td style = \"text-align: left;\">Type A</td></tr><tr><td class = \"rowNumber\" style = \"font-weight: bold; text-align: right;\">4</td><td style = \"text-align: right;\">4</td><td style = \"text-align: right;\">5</td><td style = \"text-align: left;\">category</td><td style = \"text-align: left;\">eq</td><td style = \"text-align: left;\">Type B</td></tr><tr><td class = \"rowNumber\" style = \"font-weight: bold; text-align: right;\">5</td><td style = \"text-align: right;\">5</td><td style = \"text-align: right;\">7</td><td style = \"text-align: left;\">category</td><td style = \"text-align: left;\">eq</td><td style = \"text-align: left;\">Type C</td></tr><tr><td class = \"rowNumber\" style = \"font-weight: bold; text-align: right;\">6</td><td style = \"text-align: right;\">6</td><td style = \"text-align: right;\">8</td><td style = \"text-align: left;\">name</td><td style = \"text-align: left;\">matches</td><td style = \"text-align: left;\">\\\\sType C\\\\s</td></tr></tbody></table></div>"
      ],
      "text/latex": [
       "\\begin{tabular}{r|ccccc}\n",
       "\t& id & operator\\_id & column & filter & value\\\\\n",
       "\t\\hline\n",
       "\t& Int64 & Int64 & String15 & String7 & String31\\\\\n",
       "\t\\hline\n",
       "\t1 & 1 & 2 & name & matches & \\^[\\^\\textbackslash{}\\textbackslash{}*] \\\\\n",
       "\t2 & 2 & 2 & created\\_at & lteq & 2020-01-01 00:00:00 \\\\\n",
       "\t3 & 3 & 4 & category & eq & Type A \\\\\n",
       "\t4 & 4 & 5 & category & eq & Type B \\\\\n",
       "\t5 & 5 & 7 & category & eq & Type C \\\\\n",
       "\t6 & 6 & 8 & name & matches & \\textbackslash{}\\textbackslash{}sType C\\textbackslash{}\\textbackslash{}s \\\\\n",
       "\\end{tabular}\n"
      ],
      "text/plain": [
       "\u001b[1m6×5 DataFrame\u001b[0m\n",
       "\u001b[1m Row \u001b[0m│\u001b[1m id    \u001b[0m\u001b[1m operator_id \u001b[0m\u001b[1m column     \u001b[0m\u001b[1m filter  \u001b[0m\u001b[1m value               \u001b[0m\n",
       "     │\u001b[90m Int64 \u001b[0m\u001b[90m Int64       \u001b[0m\u001b[90m String15   \u001b[0m\u001b[90m String7 \u001b[0m\u001b[90m String31            \u001b[0m\n",
       "─────┼──────────────────────────────────────────────────────────────\n",
       "   1 │     1            2  name        matches  ^[^\\\\*]\n",
       "   2 │     2            2  created_at  lteq     2020-01-01 00:00:00\n",
       "   3 │     3            4  category    eq       Type A\n",
       "   4 │     4            5  category    eq       Type B\n",
       "   5 │     5            7  category    eq       Type C\n",
       "   6 │     6            8  name        matches  \\\\sType C\\\\s"
      ]
     },
     "execution_count": 5,
     "metadata": {},
     "output_type": "execute_result"
    }
   ],
   "source": [
    "# data_import_conditions\n",
    "data_import_conditions = CSV.read(dir * \"data_import_conditions.csv\", DataFrame)"
   ]
  },
  {
   "cell_type": "code",
   "execution_count": 6,
   "id": "7210021a-4e6b-4723-a2cd-493e6b0bb7a5",
   "metadata": {
    "tags": []
   },
   "outputs": [
    {
     "data": {
      "text/html": [
       "<div><div style = \"float: left;\"><span>9×8 DataFrame</span></div><div style = \"clear: both;\"></div></div><div class = \"data-frame\" style = \"overflow-x: scroll;\"><table class = \"data-frame\" style = \"margin-bottom: 6px;\"><thead><tr class = \"header\"><th class = \"rowNumber\" style = \"font-weight: bold; text-align: right;\">Row</th><th style = \"text-align: left;\">id</th><th style = \"text-align: left;\">parent_type</th><th style = \"text-align: left;\">parent_id</th><th style = \"text-align: left;\">operation</th><th style = \"text-align: left;\">name</th><th style = \"text-align: left;\">column</th><th style = \"text-align: left;\">filter</th><th style = \"text-align: left;\">value</th></tr><tr class = \"subheader headerLastRow\"><th class = \"rowNumber\" style = \"font-weight: bold; text-align: right;\"></th><th title = \"Int64\" style = \"text-align: left;\">Int64</th><th title = \"String31\" style = \"text-align: left;\">String31</th><th title = \"Int64\" style = \"text-align: left;\">Int64</th><th title = \"String3\" style = \"text-align: left;\">String3</th><th title = \"String31\" style = \"text-align: left;\">String31</th><th title = \"Union{Missing, String15}\" style = \"text-align: left;\">String15?</th><th title = \"Union{Missing, String7}\" style = \"text-align: left;\">String7?</th><th title = \"Union{Missing, String31}\" style = \"text-align: left;\">String31?</th></tr></thead><tbody><tr><td class = \"rowNumber\" style = \"font-weight: bold; text-align: right;\">1</td><td style = \"text-align: right;\">1</td><td style = \"text-align: left;\">DataImportTarget</td><td style = \"text-align: right;\">1</td><td style = \"text-align: left;\">AND</td><td style = \"text-align: left;\">Base condition</td><td style = \"font-style: italic; text-align: left;\">missing</td><td style = \"font-style: italic; text-align: left;\">missing</td><td style = \"font-style: italic; text-align: left;\">missing</td></tr><tr><td class = \"rowNumber\" style = \"font-weight: bold; text-align: right;\">2</td><td style = \"text-align: right;\">2</td><td style = \"text-align: left;\">DataImportConditionOperator</td><td style = \"text-align: right;\">1</td><td style = \"text-align: left;\">AND</td><td style = \"text-align: left;\">Common condition</td><td style = \"text-align: left;\">name</td><td style = \"text-align: left;\">matches</td><td style = \"text-align: left;\">^[^\\\\*]</td></tr><tr><td class = \"rowNumber\" style = \"font-weight: bold; text-align: right;\">3</td><td style = \"text-align: right;\">2</td><td style = \"text-align: left;\">DataImportConditionOperator</td><td style = \"text-align: right;\">1</td><td style = \"text-align: left;\">AND</td><td style = \"text-align: left;\">Common condition</td><td style = \"text-align: left;\">created_at</td><td style = \"text-align: left;\">lteq</td><td style = \"text-align: left;\">2020-01-01 00:00:00</td></tr><tr><td class = \"rowNumber\" style = \"font-weight: bold; text-align: right;\">4</td><td style = \"text-align: right;\">3</td><td style = \"text-align: left;\">DataImportConditionOperator</td><td style = \"text-align: right;\">1</td><td style = \"text-align: left;\">OR</td><td style = \"text-align: left;\">Any condition</td><td style = \"font-style: italic; text-align: left;\">missing</td><td style = \"font-style: italic; text-align: left;\">missing</td><td style = \"font-style: italic; text-align: left;\">missing</td></tr><tr><td class = \"rowNumber\" style = \"font-weight: bold; text-align: right;\">5</td><td style = \"text-align: right;\">4</td><td style = \"text-align: left;\">DataImportConditionOperator</td><td style = \"text-align: right;\">3</td><td style = \"text-align: left;\">AND</td><td style = \"text-align: left;\">Type A</td><td style = \"text-align: left;\">category</td><td style = \"text-align: left;\">eq</td><td style = \"text-align: left;\">Type A</td></tr><tr><td class = \"rowNumber\" style = \"font-weight: bold; text-align: right;\">6</td><td style = \"text-align: right;\">5</td><td style = \"text-align: left;\">DataImportConditionOperator</td><td style = \"text-align: right;\">3</td><td style = \"text-align: left;\">AND</td><td style = \"text-align: left;\">Type B</td><td style = \"text-align: left;\">category</td><td style = \"text-align: left;\">eq</td><td style = \"text-align: left;\">Type B</td></tr><tr><td class = \"rowNumber\" style = \"font-weight: bold; text-align: right;\">7</td><td style = \"text-align: right;\">6</td><td style = \"text-align: left;\">DataImportConditionOperator</td><td style = \"text-align: right;\">3</td><td style = \"text-align: left;\">OR</td><td style = \"text-align: left;\">Type C</td><td style = \"font-style: italic; text-align: left;\">missing</td><td style = \"font-style: italic; text-align: left;\">missing</td><td style = \"font-style: italic; text-align: left;\">missing</td></tr><tr><td class = \"rowNumber\" style = \"font-weight: bold; text-align: right;\">8</td><td style = \"text-align: right;\">7</td><td style = \"text-align: left;\">DataImportConditionOperator</td><td style = \"text-align: right;\">6</td><td style = \"text-align: left;\">AND</td><td style = \"text-align: left;\">Type C-1</td><td style = \"text-align: left;\">category</td><td style = \"text-align: left;\">eq</td><td style = \"text-align: left;\">Type C</td></tr><tr><td class = \"rowNumber\" style = \"font-weight: bold; text-align: right;\">9</td><td style = \"text-align: right;\">8</td><td style = \"text-align: left;\">DataImportConditionOperator</td><td style = \"text-align: right;\">6</td><td style = \"text-align: left;\">AND</td><td style = \"text-align: left;\">Type C-2</td><td style = \"text-align: left;\">name</td><td style = \"text-align: left;\">matches</td><td style = \"text-align: left;\">\\\\sType C\\\\s</td></tr></tbody></table></div>"
      ],
      "text/latex": [
       "\\begin{tabular}{r|ccccccc}\n",
       "\t& id & parent\\_type & parent\\_id & operation & name & column & \\\\\n",
       "\t\\hline\n",
       "\t& Int64 & String31 & Int64 & String3 & String31 & String15? & \\\\\n",
       "\t\\hline\n",
       "\t1 & 1 & DataImportTarget & 1 & AND & Base condition & \\emph{missing} & $\\dots$ \\\\\n",
       "\t2 & 2 & DataImportConditionOperator & 1 & AND & Common condition & name & $\\dots$ \\\\\n",
       "\t3 & 2 & DataImportConditionOperator & 1 & AND & Common condition & created\\_at & $\\dots$ \\\\\n",
       "\t4 & 3 & DataImportConditionOperator & 1 & OR & Any condition & \\emph{missing} & $\\dots$ \\\\\n",
       "\t5 & 4 & DataImportConditionOperator & 3 & AND & Type A & category & $\\dots$ \\\\\n",
       "\t6 & 5 & DataImportConditionOperator & 3 & AND & Type B & category & $\\dots$ \\\\\n",
       "\t7 & 6 & DataImportConditionOperator & 3 & OR & Type C & \\emph{missing} & $\\dots$ \\\\\n",
       "\t8 & 7 & DataImportConditionOperator & 6 & AND & Type C-1 & category & $\\dots$ \\\\\n",
       "\t9 & 8 & DataImportConditionOperator & 6 & AND & Type C-2 & name & $\\dots$ \\\\\n",
       "\\end{tabular}\n"
      ],
      "text/plain": [
       "\u001b[1m9×8 DataFrame\u001b[0m\n",
       "\u001b[1m Row \u001b[0m│\u001b[1m id    \u001b[0m\u001b[1m parent_type                 \u001b[0m\u001b[1m parent_id \u001b[0m\u001b[1m operation \u001b[0m\u001b[1m name         \u001b[0m ⋯\n",
       "     │\u001b[90m Int64 \u001b[0m\u001b[90m String31                    \u001b[0m\u001b[90m Int64     \u001b[0m\u001b[90m String3   \u001b[0m\u001b[90m String31     \u001b[0m ⋯\n",
       "─────┼──────────────────────────────────────────────────────────────────────────\n",
       "   1 │     1  DataImportTarget                     1  AND        Base conditio ⋯\n",
       "   2 │     2  DataImportConditionOperator          1  AND        Common condit\n",
       "   3 │     2  DataImportConditionOperator          1  AND        Common condit\n",
       "   4 │     3  DataImportConditionOperator          1  OR         Any condition\n",
       "   5 │     4  DataImportConditionOperator          3  AND        Type A        ⋯\n",
       "   6 │     5  DataImportConditionOperator          3  AND        Type B\n",
       "   7 │     6  DataImportConditionOperator          3  OR         Type C\n",
       "   8 │     7  DataImportConditionOperator          6  AND        Type C-1\n",
       "   9 │     8  DataImportConditionOperator          6  AND        Type C-2      ⋯\n",
       "\u001b[36m                                                               4 columns omitted\u001b[0m"
      ]
     },
     "execution_count": 6,
     "metadata": {},
     "output_type": "execute_result"
    }
   ],
   "source": [
    "# combined\n",
    "@chain data_import_condition_operators begin\n",
    "    leftjoin(select(data_import_conditions, Not(:id)), on= :id => :operator_id)\n",
    "    sort(:id)\n",
    "end"
   ]
  }
 ],
 "metadata": {
  "kernelspec": {
   "display_name": "Julia 1.9.0",
   "language": "julia",
   "name": "julia-1.9"
  },
  "language_info": {
   "file_extension": ".jl",
   "mimetype": "application/julia",
   "name": "julia",
   "version": "1.9.0"
  }
 },
 "nbformat": 4,
 "nbformat_minor": 5
}
