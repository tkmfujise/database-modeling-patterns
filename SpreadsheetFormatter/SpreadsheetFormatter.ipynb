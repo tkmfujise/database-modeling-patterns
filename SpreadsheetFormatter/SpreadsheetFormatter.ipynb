{
 "cells": [
  {
   "cell_type": "markdown",
   "id": "fa9a18ad-4aa9-46ed-9293-7a54f212ed96",
   "metadata": {},
   "source": [
    "# SpreadsheetFormatter"
   ]
  },
  {
   "cell_type": "code",
   "execution_count": 1,
   "id": "559d675e-f922-4013-8c6f-53922ad037ae",
   "metadata": {
    "tags": []
   },
   "outputs": [],
   "source": [
    "using DataFramesMeta, CSV, Kroki\n",
    "dir = pwd() * \"/\";"
   ]
  },
  {
   "cell_type": "code",
   "execution_count": 2,
   "id": "61773474-7e1f-4984-9c1f-618f6bc80615",
   "metadata": {
    "tags": []
   },
   "outputs": [
    {
     "data": {
      "image/png": "[encoded data removed]",
      "image/svg+xml": [
       "<?xml version=\"1.0\" encoding=\"us-ascii\" standalone=\"no\"?><svg xmlns=\"http://www.w3.org/2000/svg\" xmlns:xlink=\"http://www.w3.org/1999/xlink\" contentStyleType=\"text/css\" height=\"300px\" preserveAspectRatio=\"none\" style=\"width:491px;height:300px;background:#FFFFFF;\" version=\"1.1\" viewBox=\"0 0 491 300\" width=\"491px\" zoomAndPan=\"magnify\"><defs/><g><!--class Format--><g id=\"elem_Format\"><rect codeLine=\"1\" fill=\"#F1F1F1\" height=\"72.5938\" id=\"Format\" rx=\"2.5\" ry=\"2.5\" style=\"stroke:#181818;stroke-width:0.5;\" width=\"80\" x=\"13.5\" y=\"23.5\"/><ellipse cx=\"28.5\" cy=\"39.5\" fill=\"#ADD1B2\" rx=\"11\" ry=\"11\" style=\"stroke:#181818;stroke-width:1.0;\"/><path d=\"M31.4688,45.1406 Q30.8906,45.4375 30.25,45.5781 Q29.6094,45.7344 28.9063,45.7344 Q26.4063,45.7344 25.0781,44.0938 Q23.7656,42.4375 23.7656,39.3125 Q23.7656,36.1875 25.0781,34.5313 Q26.4063,32.875 28.9063,32.875 Q29.6094,32.875 30.25,33.0313 Q30.9063,33.1875 31.4688,33.4844 L31.4688,36.2031 Q30.8438,35.625 30.25,35.3594 Q29.6563,35.0781 29.0313,35.0781 Q27.6875,35.0781 27,36.1563 Q26.3125,37.2188 26.3125,39.3125 Q26.3125,41.4063 27,42.4844 Q27.6875,43.5469 29.0313,43.5469 Q29.6563,43.5469 30.25,43.2813 Q30.8438,43 31.4688,42.4219 L31.4688,45.1406 Z \" fill=\"#000000\"/><text fill=\"#000000\" font-family=\"sans-serif\" font-size=\"14\" lengthAdjust=\"spacing\" textLength=\"48\" x=\"42.5\" y=\"44.3467\">Format</text><line style=\"stroke:#181818;stroke-width:0.5;\" x1=\"14.5\" x2=\"92.5\" y1=\"55.5\" y2=\"55.5\"/><polygon fill=\"none\" points=\"24.5,65.1484,20.5,71.1484,28.5,71.1484\" style=\"stroke:#1963A0;stroke-width:1.0;\"/><text fill=\"#000000\" font-family=\"sans-serif\" font-size=\"14\" lengthAdjust=\"spacing\" textLength=\"12\" x=\"33.5\" y=\"72.4951\">id</text><ellipse cx=\"24.5\" cy=\"85.4453\" fill=\"none\" rx=\"3\" ry=\"3\" style=\"stroke:#038048;stroke-width:1.0;\"/><text fill=\"#000000\" font-family=\"sans-serif\" font-size=\"14\" lengthAdjust=\"spacing\" textLength=\"39\" x=\"33.5\" y=\"88.792\">name</text></g><!--class Paper--><g id=\"elem_Paper\"><rect codeLine=\"5\" fill=\"#F1F1F1\" height=\"88.8906\" id=\"Paper\" rx=\"2.5\" ry=\"2.5\" style=\"stroke:#181818;stroke-width:0.5;\" width=\"89\" x=\"9\" y=\"146.5\"/><ellipse cx=\"31.65\" cy=\"162.5\" fill=\"#ADD1B2\" rx=\"11\" ry=\"11\" style=\"stroke:#181818;stroke-width:1.0;\"/><path d=\"M34.6188,168.1406 Q34.0406,168.4375 33.4,168.5781 Q32.7594,168.7344 32.0563,168.7344 Q29.5563,168.7344 28.2281,167.0938 Q26.9156,165.4375 26.9156,162.3125 Q26.9156,159.1875 28.2281,157.5313 Q29.5563,155.875 32.0563,155.875 Q32.7594,155.875 33.4,156.0313 Q34.0563,156.1875 34.6188,156.4844 L34.6188,159.2031 Q33.9938,158.625 33.4,158.3594 Q32.8063,158.0781 32.1813,158.0781 Q30.8375,158.0781 30.15,159.1563 Q29.4625,160.2188 29.4625,162.3125 Q29.4625,164.4063 30.15,165.4844 Q30.8375,166.5469 32.1813,166.5469 Q32.8063,166.5469 33.4,166.2813 Q33.9938,166 34.6188,165.4219 L34.6188,168.1406 Z \" fill=\"#000000\"/><text fill=\"#000000\" font-family=\"sans-serif\" font-size=\"14\" lengthAdjust=\"spacing\" textLength=\"40\" x=\"47.35\" y=\"167.3467\">Paper</text><line style=\"stroke:#181818;stroke-width:0.5;\" x1=\"10\" x2=\"97\" y1=\"178.5\" y2=\"178.5\"/><polygon fill=\"none\" points=\"20,188.1484,16,194.1484,24,194.1484\" style=\"stroke:#1963A0;stroke-width:1.0;\"/><text fill=\"#000000\" font-family=\"sans-serif\" font-size=\"14\" lengthAdjust=\"spacing\" textLength=\"12\" x=\"29\" y=\"195.4951\">id</text><rect fill=\"none\" height=\"6\" style=\"stroke:#C82930;stroke-width:1.0;\" width=\"6\" x=\"17\" y=\"205.4453\"/><text fill=\"#000000\" font-family=\"sans-serif\" font-size=\"14\" lengthAdjust=\"spacing\" textLength=\"63\" x=\"29\" y=\"211.792\">format_id</text><ellipse cx=\"20\" cy=\"224.7422\" fill=\"none\" rx=\"3\" ry=\"3\" style=\"stroke:#038048;stroke-width:1.0;\"/><text fill=\"#000000\" font-family=\"sans-serif\" font-size=\"14\" lengthAdjust=\"spacing\" textLength=\"39\" x=\"29\" y=\"228.0889\">name</text></g><!--class FormatPaper--><g id=\"elem_FormatPaper\"><rect codeLine=\"10\" fill=\"#F1F1F1\" height=\"105.1875\" id=\"FormatPaper\" rx=\"2.5\" ry=\"2.5\" style=\"stroke:#181818;stroke-width:0.5;\" width=\"124\" x=\"181\" y=\"7\"/><ellipse cx=\"197.8\" cy=\"23\" fill=\"#ADD1B2\" rx=\"11\" ry=\"11\" style=\"stroke:#181818;stroke-width:1.0;\"/><path d=\"M200.7688,28.6406 Q200.1906,28.9375 199.55,29.0781 Q198.9094,29.2344 198.2063,29.2344 Q195.7063,29.2344 194.3781,27.5938 Q193.0656,25.9375 193.0656,22.8125 Q193.0656,19.6875 194.3781,18.0313 Q195.7063,16.375 198.2063,16.375 Q198.9094,16.375 199.55,16.5313 Q200.2063,16.6875 200.7688,16.9844 L200.7688,19.7031 Q200.1438,19.125 199.55,18.8594 Q198.9563,18.5781 198.3313,18.5781 Q196.9875,18.5781 196.3,19.6563 Q195.6125,20.7188 195.6125,22.8125 Q195.6125,24.9063 196.3,25.9844 Q196.9875,27.0469 198.3313,27.0469 Q198.9563,27.0469 199.55,26.7813 Q200.1438,26.5 200.7688,25.9219 L200.7688,28.6406 Z \" fill=\"#000000\"/><text fill=\"#000000\" font-family=\"sans-serif\" font-size=\"14\" lengthAdjust=\"spacing\" textLength=\"88\" x=\"212.2\" y=\"27.8467\">FormatPaper</text><line style=\"stroke:#181818;stroke-width:0.5;\" x1=\"182\" x2=\"304\" y1=\"39\" y2=\"39\"/><polygon fill=\"none\" points=\"192,48.6484,188,54.6484,196,54.6484\" style=\"stroke:#1963A0;stroke-width:1.0;\"/><text fill=\"#000000\" font-family=\"sans-serif\" font-size=\"14\" lengthAdjust=\"spacing\" textLength=\"12\" x=\"201\" y=\"55.9951\">id</text><rect fill=\"none\" height=\"6\" style=\"stroke:#C82930;stroke-width:1.0;\" width=\"6\" x=\"189\" y=\"65.9453\"/><text fill=\"#000000\" font-family=\"sans-serif\" font-size=\"14\" lengthAdjust=\"spacing\" textLength=\"63\" x=\"201\" y=\"72.292\">format_id</text><rect fill=\"none\" height=\"6\" style=\"stroke:#C82930;stroke-width:1.0;\" width=\"6\" x=\"189\" y=\"82.2422\"/><text fill=\"#000000\" font-family=\"sans-serif\" font-size=\"14\" lengthAdjust=\"spacing\" textLength=\"59\" x=\"201\" y=\"88.5889\">paper_id</text><ellipse cx=\"192\" cy=\"101.5391\" fill=\"none\" rx=\"3\" ry=\"3\" style=\"stroke:#038048;stroke-width:1.0;\"/><text fill=\"#000000\" font-family=\"sans-serif\" font-size=\"14\" lengthAdjust=\"spacing\" textLength=\"98\" x=\"201\" y=\"104.8857\">order_number</text></g><!--class Accessor--><g id=\"elem_Accessor\"><rect codeLine=\"16\" fill=\"#F1F1F1\" height=\"105.1875\" id=\"Accessor\" rx=\"2.5\" ry=\"2.5\" style=\"stroke:#181818;stroke-width:0.5;\" width=\"96\" x=\"388\" y=\"188\"/><ellipse cx=\"403\" cy=\"204\" fill=\"#ADD1B2\" rx=\"11\" ry=\"11\" style=\"stroke:#181818;stroke-width:1.0;\"/><path d=\"M405.9688,209.6406 Q405.3906,209.9375 404.75,210.0781 Q404.1094,210.2344 403.4063,210.2344 Q400.9063,210.2344 399.5781,208.5938 Q398.2656,206.9375 398.2656,203.8125 Q398.2656,200.6875 399.5781,199.0313 Q400.9063,197.375 403.4063,197.375 Q404.1094,197.375 404.75,197.5313 Q405.4063,197.6875 405.9688,197.9844 L405.9688,200.7031 Q405.3438,200.125 404.75,199.8594 Q404.1563,199.5781 403.5313,199.5781 Q402.1875,199.5781 401.5,200.6563 Q400.8125,201.7188 400.8125,203.8125 Q400.8125,205.9063 401.5,206.9844 Q402.1875,208.0469 403.5313,208.0469 Q404.1563,208.0469 404.75,207.7813 Q405.3438,207.5 405.9688,206.9219 L405.9688,209.6406 Z \" fill=\"#000000\"/><text fill=\"#000000\" font-family=\"sans-serif\" font-size=\"14\" lengthAdjust=\"spacing\" textLength=\"64\" x=\"417\" y=\"208.8467\">Accessor</text><line style=\"stroke:#181818;stroke-width:0.5;\" x1=\"389\" x2=\"483\" y1=\"220\" y2=\"220\"/><polygon fill=\"none\" points=\"399,229.6484,395,235.6484,403,235.6484\" style=\"stroke:#1963A0;stroke-width:1.0;\"/><text fill=\"#000000\" font-family=\"sans-serif\" font-size=\"14\" lengthAdjust=\"spacing\" textLength=\"12\" x=\"408\" y=\"236.9951\">id</text><rect fill=\"none\" height=\"6\" style=\"stroke:#C82930;stroke-width:1.0;\" width=\"6\" x=\"396\" y=\"246.9453\"/><text fill=\"#000000\" font-family=\"sans-serif\" font-size=\"14\" lengthAdjust=\"spacing\" textLength=\"64\" x=\"408\" y=\"253.292\">parent_id</text><ellipse cx=\"399\" cy=\"266.2422\" fill=\"none\" rx=\"3\" ry=\"3\" style=\"stroke:#038048;stroke-width:1.0;\"/><text fill=\"#000000\" font-family=\"sans-serif\" font-size=\"14\" lengthAdjust=\"spacing\" textLength=\"30\" x=\"408\" y=\"269.5889\">type</text><ellipse cx=\"399\" cy=\"282.5391\" fill=\"none\" rx=\"3\" ry=\"3\" style=\"stroke:#038048;stroke-width:1.0;\"/><text fill=\"#000000\" font-family=\"sans-serif\" font-size=\"14\" lengthAdjust=\"spacing\" textLength=\"36\" x=\"408\" y=\"285.8857\">value</text></g><!--class PaperAccessor--><g id=\"elem_PaperAccessor\"><rect codeLine=\"22\" fill=\"#F1F1F1\" height=\"121.4844\" id=\"PaperAccessor\" rx=\"2.5\" ry=\"2.5\" style=\"stroke:#181818;stroke-width:0.5;\" width=\"136\" x=\"175\" y=\"155\"/><ellipse cx=\"190\" cy=\"171\" fill=\"#ADD1B2\" rx=\"11\" ry=\"11\" style=\"stroke:#181818;stroke-width:1.0;\"/><path d=\"M192.9688,176.6406 Q192.3906,176.9375 191.75,177.0781 Q191.1094,177.2344 190.4063,177.2344 Q187.9063,177.2344 186.5781,175.5938 Q185.2656,173.9375 185.2656,170.8125 Q185.2656,167.6875 186.5781,166.0313 Q187.9063,164.375 190.4063,164.375 Q191.1094,164.375 191.75,164.5313 Q192.4063,164.6875 192.9688,164.9844 L192.9688,167.7031 Q192.3438,167.125 191.75,166.8594 Q191.1563,166.5781 190.5313,166.5781 Q189.1875,166.5781 188.5,167.6563 Q187.8125,168.7188 187.8125,170.8125 Q187.8125,172.9063 188.5,173.9844 Q189.1875,175.0469 190.5313,175.0469 Q191.1563,175.0469 191.75,174.7813 Q192.3438,174.5 192.9688,173.9219 L192.9688,176.6406 Z \" fill=\"#000000\"/><text fill=\"#000000\" font-family=\"sans-serif\" font-size=\"14\" lengthAdjust=\"spacing\" textLength=\"104\" x=\"204\" y=\"175.8467\">PaperAccessor</text><line style=\"stroke:#181818;stroke-width:0.5;\" x1=\"176\" x2=\"310\" y1=\"187\" y2=\"187\"/><polygon fill=\"none\" points=\"186,196.6484,182,202.6484,190,202.6484\" style=\"stroke:#1963A0;stroke-width:1.0;\"/><text fill=\"#000000\" font-family=\"sans-serif\" font-size=\"14\" lengthAdjust=\"spacing\" textLength=\"12\" x=\"195\" y=\"203.9951\">id</text><rect fill=\"none\" height=\"6\" style=\"stroke:#C82930;stroke-width:1.0;\" width=\"6\" x=\"183\" y=\"213.9453\"/><text fill=\"#000000\" font-family=\"sans-serif\" font-size=\"14\" lengthAdjust=\"spacing\" textLength=\"59\" x=\"195\" y=\"220.292\">paper_id</text><rect fill=\"none\" height=\"6\" style=\"stroke:#C82930;stroke-width:1.0;\" width=\"6\" x=\"183\" y=\"230.2422\"/><text fill=\"#000000\" font-family=\"sans-serif\" font-size=\"14\" lengthAdjust=\"spacing\" textLength=\"82\" x=\"195\" y=\"236.5889\">accessor_id</text><ellipse cx=\"186\" cy=\"249.5391\" fill=\"none\" rx=\"3\" ry=\"3\" style=\"stroke:#038048;stroke-width:1.0;\"/><text fill=\"#000000\" font-family=\"sans-serif\" font-size=\"14\" lengthAdjust=\"spacing\" textLength=\"23\" x=\"195\" y=\"252.8857\">cell</text><ellipse cx=\"186\" cy=\"265.8359\" fill=\"none\" rx=\"3\" ry=\"3\" style=\"stroke:#038048;stroke-width:1.0;\"/><text fill=\"#000000\" font-family=\"sans-serif\" font-size=\"14\" lengthAdjust=\"spacing\" textLength=\"44\" x=\"195\" y=\"269.1826\">option</text></g><!--link Format to FormatPaper--><g id=\"link_Format_FormatPaper\"><path codeLine=\"32\" d=\"M103.31,67.5 C131.47,67.5 143,67.5 171.15,67.5 \" fill=\"none\" id=\"Format-FormatPaper\" style=\"stroke:#181818;stroke-width:1.0;\"/><line style=\"stroke:#181818;stroke-width:1.0;\" x1=\"99.5\" x2=\"99.5\" y1=\"71.5\" y2=\"63.5\"/><line style=\"stroke:#181818;stroke-width:1.0;\" x1=\"102.5\" x2=\"102.5\" y1=\"71.5\" y2=\"63.5\"/><line style=\"stroke:#181818;stroke-width:1.0;\" x1=\"103.5\" x2=\"95.5\" y1=\"67.5\" y2=\"67.5\"/><line style=\"stroke:#181818;stroke-width:1.0;\" x1=\"171\" x2=\"179\" y1=\"67.5\" y2=\"59.5\"/><line style=\"stroke:#181818;stroke-width:1.0;\" x1=\"171\" x2=\"179\" y1=\"67.5\" y2=\"75.5\"/><line style=\"stroke:#181818;stroke-width:1.0;\" x1=\"171\" x2=\"179\" y1=\"67.5\" y2=\"67.5\"/></g><!--link Paper to FormatPaper--><g id=\"link_Paper_FormatPaper\"><path codeLine=\"33\" d=\"M108.42,189.57 C152.45,179.71 127.04,94.06 171.25,84.39 \" fill=\"none\" id=\"Paper-FormatPaper\" style=\"stroke:#181818;stroke-width:1.0;\"/><line style=\"stroke:#181818;stroke-width:1.0;\" x1=\"104.8928\" x2=\"104.0642\" y1=\"194.0642\" y2=\"186.1072\"/><line style=\"stroke:#181818;stroke-width:1.0;\" x1=\"107.8766\" x2=\"107.0481\" y1=\"193.7535\" y2=\"185.7965\"/><line style=\"stroke:#181818;stroke-width:1.0;\" x1=\"108.457\" x2=\"100.5\" y1=\"189.6714\" y2=\"190.5\"/><line style=\"stroke:#181818;stroke-width:1.0;\" x1=\"171.0401\" x2=\"179\" y1=\"84.3003\" y2=\"75.5401\"/><line style=\"stroke:#181818;stroke-width:1.0;\" x1=\"171.0401\" x2=\"179\" y1=\"84.3003\" y2=\"91.4599\"/><line style=\"stroke:#181818;stroke-width:1.0;\" x1=\"171.0401\" x2=\"179\" y1=\"84.3003\" y2=\"83.5\"/></g><!--link Accessor to Accessor--><g id=\"link_Accessor_Accessor\"><path codeLine=\"34\" d=\"M420.11,175.4 C421.44,160.2 426.73,149 436,149 C445.27,149 450.56,160.2 451.89,175.4 \" fill=\"none\" id=\"Accessor-Accessor\" style=\"stroke:#181818;stroke-width:1.0;\"/><line style=\"stroke:#181818;stroke-width:1.0;\" x1=\"423.9371\" x2=\"415.9427\" y1=\"179.3627\" y2=\"179.0629\"/><line style=\"stroke:#181818;stroke-width:1.0;\" x1=\"424.0495\" x2=\"416.0551\" y1=\"176.3648\" y2=\"176.065\"/><line style=\"stroke:#181818;stroke-width:1.0;\" x1=\"420.0898\" x2=\"419.79\" y1=\"175.2156\" y2=\"183.21\"/><line style=\"stroke:#181818;stroke-width:1.0;\" x1=\"451.9102\" x2=\"460.2044\" y1=\"175.2156\" y2=\"183.21\"/><line style=\"stroke:#181818;stroke-width:1.0;\" x1=\"451.9102\" x2=\"444.2156\" y1=\"175.2156\" y2=\"183.21\"/><line style=\"stroke:#181818;stroke-width:1.0;\" x1=\"451.9102\" x2=\"452.21\" y1=\"175.2156\" y2=\"183.21\"/><text fill=\"#000000\" font-family=\"sans-serif\" font-size=\"13\" lengthAdjust=\"spacing\" textLength=\"60\" x=\"406\" y=\"140.0669\">parent_id</text></g><!--link Paper to PaperAccessor--><g id=\"link_Paper_PaperAccessor\"><path codeLine=\"35\" d=\"M108.2,191.05 C132.65,194.26 140.72,210.63 165.07,213.92 \" fill=\"none\" id=\"Paper-PaperAccessor\" style=\"stroke:#181818;stroke-width:1.0;\"/><line style=\"stroke:#181818;stroke-width:1.0;\" x1=\"104.2422\" x2=\"104.7421\" y1=\"194.7421\" y2=\"186.7578\"/><line style=\"stroke:#181818;stroke-width:1.0;\" x1=\"107.2364\" x2=\"107.7363\" y1=\"194.9296\" y2=\"186.9452\"/><line style=\"stroke:#181818;stroke-width:1.0;\" x1=\"108.4844\" x2=\"100.5\" y1=\"190.9999\" y2=\"190.5\"/><line style=\"stroke:#181818;stroke-width:1.0;\" x1=\"165.0165\" x2=\"173\" y1=\"213.9859\" y2=\"206.5165\"/><line style=\"stroke:#181818;stroke-width:1.0;\" x1=\"165.0165\" x2=\"173\" y1=\"213.9859\" y2=\"222.4835\"/><line style=\"stroke:#181818;stroke-width:1.0;\" x1=\"165.0165\" x2=\"173\" y1=\"213.9859\" y2=\"214.5\"/></g><!--link PaperAccessor to Accessor--><g id=\"link_PaperAccessor_Accessor\"><path codeLine=\"36\" d=\"M320.76,231.5 C344.34,231.5 354.57,231.5 378.08,231.5 \" fill=\"none\" id=\"PaperAccessor-Accessor\" style=\"stroke:#181818;stroke-width:1.0;\"/><line style=\"stroke:#181818;stroke-width:1.0;\" x1=\"321\" x2=\"313\" y1=\"231.5\" y2=\"239.5\"/><line style=\"stroke:#181818;stroke-width:1.0;\" x1=\"321\" x2=\"313\" y1=\"231.5\" y2=\"223.5\"/><line style=\"stroke:#181818;stroke-width:1.0;\" x1=\"321\" x2=\"313\" y1=\"231.5\" y2=\"231.5\"/><line style=\"stroke:#181818;stroke-width:1.0;\" x1=\"382\" x2=\"382\" y1=\"227.5\" y2=\"235.5\"/><line style=\"stroke:#181818;stroke-width:1.0;\" x1=\"379\" x2=\"379\" y1=\"227.5\" y2=\"235.5\"/><line style=\"stroke:#181818;stroke-width:1.0;\" x1=\"378\" x2=\"386\" y1=\"231.5\" y2=\"231.5\"/></g><!--SRC=[ZP1D3i8W48Ntd6BsXWkmS-FQ6nY4gINXBq1DJ5lFRcrhGT8OMSqCRxxCUqBp6E7aWk49UWBJUuAISt40omsIaOXPTEOUGwsXqCoxb_sT1VpN9WN_bcMG2t9gRMUk63RWKGYCqUtGF0zeYplIm-DQthdkAX-_ECKL5FWgp621MdzEz4avEv5R9H4CfjR9I3Gs2PA3e6vj0ga2Ybb6bZGOKnA6WTA-Z8Un7CSws9TjzsqM5j7MiYAAclJblM1Lyy8qZ9GE0-G_9Ly0]--></g></svg>"
      ],
      "text/plain": [
       "                 ,-----------.   \n",
       "    ,------.     |Paper      |   \n",
       "    |Format|     |-----------|   \n",
       "    |------|     |~ id       |   \n",
       "    |~ id  |     |- format_id|   \n",
       "    |+ name|     |+ name     |   \n",
       "    `------'     `-----------'   \n",
       "        |                        \n",
       "        |                        \n",
       ",--------------.  ,-------------.\n",
       "|FormatPaper   |  |PaperAccessor|\n",
       "|--------------|  |-------------|\n",
       "|~ id          |  |~ id         |\n",
       "|- format_id   |  |- paper_id   |\n",
       "|- paper_id    |  |- accessor_id|\n",
       "|+ order_number|  |+ cell       |\n",
       "`--------------'  |+ option     |\n",
       "                  `-------------'\n",
       "                          |      \n",
       "                   ,-----------. \n",
       "                   |Accessor   | \n",
       "                   |-----------| \n",
       "                   |~ id       | \n",
       "                   |- parent_id| \n",
       "                   |+ type     | \n",
       "                   |+ value    | \n",
       "                   `-----------' \n"
      ]
     },
     "execution_count": 2,
     "metadata": {},
     "output_type": "execute_result"
    }
   ],
   "source": [
    "plantuml\"\"\"\n",
    "class Format {\n",
    "    ~ id\n",
    "    + name\n",
    "}\n",
    "class Paper {\n",
    "    ~ id\n",
    "    - format_id\n",
    "    + name\n",
    "}\n",
    "class FormatPaper {\n",
    "    ~ id\n",
    "    - format_id\n",
    "    - paper_id\n",
    "    + order_number\n",
    "}\n",
    "class Accessor {\n",
    "    ~ id\n",
    "    - parent_id\n",
    "    + type\n",
    "    + value\n",
    "}\n",
    "class PaperAccessor {\n",
    "    ~ id\n",
    "    - paper_id\n",
    "    - accessor_id\n",
    "    + cell\n",
    "    + option\n",
    "}\n",
    "hide methods\n",
    "left to right direction\n",
    "\n",
    "Format::id ||--{ FormatPaper::format_id\n",
    "Paper::id ||--{ FormatPaper::paper_id\n",
    "Accessor ||--{ Accessor : parent_id\n",
    "Paper::id ||--{ PaperAccessor::paper_id\n",
    "PaperAccessor::accessor_id }--|| Accessor::id\n",
    "\"\"\""
   ]
  },
  {
   "cell_type": "markdown",
   "id": "629013cd-8348-4999-9384-56b0429368d0",
   "metadata": {},
   "source": [
    "## Example"
   ]
  },
  {
   "cell_type": "code",
   "execution_count": 3,
   "id": "abcc6950-de00-4b17-a77c-ee8553816a38",
   "metadata": {
    "tags": []
   },
   "outputs": [
    {
     "data": {
      "text/html": [
       "<div><div style = \"float: left;\"><span>3×3 DataFrame</span></div><div style = \"clear: both;\"></div></div><div class = \"data-frame\" style = \"overflow-x: scroll;\"><table class = \"data-frame\" style = \"margin-bottom: 6px;\"><thead><tr class = \"header\"><th class = \"rowNumber\" style = \"font-weight: bold; text-align: right;\">Row</th><th style = \"text-align: left;\">id</th><th style = \"text-align: left;\">format_id</th><th style = \"text-align: left;\">name</th></tr><tr class = \"subheader headerLastRow\"><th class = \"rowNumber\" style = \"font-weight: bold; text-align: right;\"></th><th title = \"Int64\" style = \"text-align: left;\">Int64</th><th title = \"Int64\" style = \"text-align: left;\">Int64</th><th title = \"String7\" style = \"text-align: left;\">String7</th></tr></thead><tbody><tr><td class = \"rowNumber\" style = \"font-weight: bold; text-align: right;\">1</td><td style = \"text-align: right;\">1</td><td style = \"text-align: right;\">1</td><td style = \"text-align: left;\">Paper 1</td></tr><tr><td class = \"rowNumber\" style = \"font-weight: bold; text-align: right;\">2</td><td style = \"text-align: right;\">2</td><td style = \"text-align: right;\">1</td><td style = \"text-align: left;\">Paper 2</td></tr><tr><td class = \"rowNumber\" style = \"font-weight: bold; text-align: right;\">3</td><td style = \"text-align: right;\">3</td><td style = \"text-align: right;\">1</td><td style = \"text-align: left;\">Paper 3</td></tr></tbody></table></div>"
      ],
      "text/latex": [
       "\\begin{tabular}{r|ccc}\n",
       "\t& id & format\\_id & name\\\\\n",
       "\t\\hline\n",
       "\t& Int64 & Int64 & String7\\\\\n",
       "\t\\hline\n",
       "\t1 & 1 & 1 & Paper 1 \\\\\n",
       "\t2 & 2 & 1 & Paper 2 \\\\\n",
       "\t3 & 3 & 1 & Paper 3 \\\\\n",
       "\\end{tabular}\n"
      ],
      "text/plain": [
       "\u001b[1m3×3 DataFrame\u001b[0m\n",
       "\u001b[1m Row \u001b[0m│\u001b[1m id    \u001b[0m\u001b[1m format_id \u001b[0m\u001b[1m name    \u001b[0m\n",
       "     │\u001b[90m Int64 \u001b[0m\u001b[90m Int64     \u001b[0m\u001b[90m String7 \u001b[0m\n",
       "─────┼───────────────────────────\n",
       "   1 │     1          1  Paper 1\n",
       "   2 │     2          1  Paper 2\n",
       "   3 │     3          1  Paper 3"
      ]
     },
     "execution_count": 3,
     "metadata": {},
     "output_type": "execute_result"
    }
   ],
   "source": [
    "# papars\n",
    "papers = CSV.read(dir * \"papers.csv\", DataFrame)"
   ]
  },
  {
   "cell_type": "code",
   "execution_count": 4,
   "id": "8610bd0f-b865-4f9b-a12b-300baf2de33c",
   "metadata": {
    "tags": []
   },
   "outputs": [
    {
     "data": {
      "text/html": [
       "<div><div style = \"float: left;\"><span>7×4 DataFrame</span></div><div style = \"clear: both;\"></div></div><div class = \"data-frame\" style = \"overflow-x: scroll;\"><table class = \"data-frame\" style = \"margin-bottom: 6px;\"><thead><tr class = \"header\"><th class = \"rowNumber\" style = \"font-weight: bold; text-align: right;\">Row</th><th style = \"text-align: left;\">id</th><th style = \"text-align: left;\">parent_id</th><th style = \"text-align: left;\">type</th><th style = \"text-align: left;\">value</th></tr><tr class = \"subheader headerLastRow\"><th class = \"rowNumber\" style = \"font-weight: bold; text-align: right;\"></th><th title = \"Int64\" style = \"text-align: left;\">Int64</th><th title = \"Union{Missing, Int64}\" style = \"text-align: left;\">Int64?</th><th title = \"String15\" style = \"text-align: left;\">String15</th><th title = \"String31\" style = \"text-align: left;\">String31</th></tr></thead><tbody><tr><td class = \"rowNumber\" style = \"font-weight: bold; text-align: right;\">1</td><td style = \"text-align: right;\">1</td><td style = \"font-style: italic; text-align: right;\">missing</td><td style = \"text-align: left;\">string</td><td style = \"text-align: left;\">company_name</td></tr><tr><td class = \"rowNumber\" style = \"font-weight: bold; text-align: right;\">2</td><td style = \"text-align: right;\">2</td><td style = \"font-style: italic; text-align: right;\">missing</td><td style = \"text-align: left;\">checkbox</td><td style = \"text-align: left;\">is_xxx?</td></tr><tr><td class = \"rowNumber\" style = \"font-weight: bold; text-align: right;\">3</td><td style = \"text-align: right;\">3</td><td style = \"font-style: italic; text-align: right;\">missing</td><td style = \"text-align: left;\">autoshape_oval</td><td style = \"text-align: left;\">yyy == ‘zzz’</td></tr><tr><td class = \"rowNumber\" style = \"font-weight: bold; text-align: right;\">4</td><td style = \"text-align: right;\">4</td><td style = \"font-style: italic; text-align: right;\">missing</td><td style = \"text-align: left;\">array</td><td style = \"text-align: left;\">items</td></tr><tr><td class = \"rowNumber\" style = \"font-weight: bold; text-align: right;\">5</td><td style = \"text-align: right;\">5</td><td style = \"text-align: right;\">4</td><td style = \"text-align: left;\">string</td><td style = \"text-align: left;\">name</td></tr><tr><td class = \"rowNumber\" style = \"font-weight: bold; text-align: right;\">6</td><td style = \"text-align: right;\">6</td><td style = \"text-align: right;\">4</td><td style = \"text-align: left;\">number</td><td style = \"text-align: left;\">amount</td></tr><tr><td class = \"rowNumber\" style = \"font-weight: bold; text-align: right;\">7</td><td style = \"text-align: right;\">7</td><td style = \"text-align: right;\">4</td><td style = \"text-align: left;\">number</td><td style = \"text-align: left;\">price</td></tr></tbody></table></div>"
      ],
      "text/latex": [
       "\\begin{tabular}{r|cccc}\n",
       "\t& id & parent\\_id & type & value\\\\\n",
       "\t\\hline\n",
       "\t& Int64 & Int64? & String15 & String31\\\\\n",
       "\t\\hline\n",
       "\t1 & 1 & \\emph{missing} & string & company\\_name \\\\\n",
       "\t2 & 2 & \\emph{missing} & checkbox & is\\_xxx? \\\\\n",
       "\t3 & 3 & \\emph{missing} & autoshape\\_oval & yyy == ‘zzz’ \\\\\n",
       "\t4 & 4 & \\emph{missing} & array & items \\\\\n",
       "\t5 & 5 & 4 & string & name \\\\\n",
       "\t6 & 6 & 4 & number & amount \\\\\n",
       "\t7 & 7 & 4 & number & price \\\\\n",
       "\\end{tabular}\n"
      ],
      "text/plain": [
       "\u001b[1m7×4 DataFrame\u001b[0m\n",
       "\u001b[1m Row \u001b[0m│\u001b[1m id    \u001b[0m\u001b[1m parent_id \u001b[0m\u001b[1m type           \u001b[0m\u001b[1m value        \u001b[0m\n",
       "     │\u001b[90m Int64 \u001b[0m\u001b[90m Int64?    \u001b[0m\u001b[90m String15       \u001b[0m\u001b[90m String31     \u001b[0m\n",
       "─────┼────────────────────────────────────────────────\n",
       "   1 │     1 \u001b[90m   missing \u001b[0m string          company_name\n",
       "   2 │     2 \u001b[90m   missing \u001b[0m checkbox        is_xxx?\n",
       "   3 │     3 \u001b[90m   missing \u001b[0m autoshape_oval  yyy == ‘zzz’\n",
       "   4 │     4 \u001b[90m   missing \u001b[0m array           items\n",
       "   5 │     5          4  string          name\n",
       "   6 │     6          4  number          amount\n",
       "   7 │     7          4  number          price"
      ]
     },
     "execution_count": 4,
     "metadata": {},
     "output_type": "execute_result"
    }
   ],
   "source": [
    "# accessors\n",
    "accessors = CSV.read(dir * \"accessors.csv\", DataFrame)"
   ]
  },
  {
   "cell_type": "code",
   "execution_count": 5,
   "id": "317bb976-e937-4195-9a55-53dfca748a7b",
   "metadata": {
    "tags": []
   },
   "outputs": [
    {
     "data": {
      "text/html": [
       "<div><div style = \"float: left;\"><span>7×5 DataFrame</span></div><div style = \"clear: both;\"></div></div><div class = \"data-frame\" style = \"overflow-x: scroll;\"><table class = \"data-frame\" style = \"margin-bottom: 6px;\"><thead><tr class = \"header\"><th class = \"rowNumber\" style = \"font-weight: bold; text-align: right;\">Row</th><th style = \"text-align: left;\">id</th><th style = \"text-align: left;\">paper_id</th><th style = \"text-align: left;\">accessor_id</th><th style = \"text-align: left;\">cell</th><th style = \"text-align: left;\">option</th></tr><tr class = \"subheader headerLastRow\"><th class = \"rowNumber\" style = \"font-weight: bold; text-align: right;\"></th><th title = \"Int64\" style = \"text-align: left;\">Int64</th><th title = \"Int64\" style = \"text-align: left;\">Int64</th><th title = \"Int64\" style = \"text-align: left;\">Int64</th><th title = \"String3\" style = \"text-align: left;\">String3</th><th title = \"Union{Missing, String31}\" style = \"text-align: left;\">String31?</th></tr></thead><tbody><tr><td class = \"rowNumber\" style = \"font-weight: bold; text-align: right;\">1</td><td style = \"text-align: right;\">1</td><td style = \"text-align: right;\">1</td><td style = \"text-align: right;\">1</td><td style = \"text-align: left;\">B2</td><td style = \"font-style: italic; text-align: left;\">missing</td></tr><tr><td class = \"rowNumber\" style = \"font-weight: bold; text-align: right;\">2</td><td style = \"text-align: right;\">2</td><td style = \"text-align: right;\">1</td><td style = \"text-align: right;\">2</td><td style = \"text-align: left;\">D4</td><td style = \"font-style: italic; text-align: left;\">missing</td></tr><tr><td class = \"rowNumber\" style = \"font-weight: bold; text-align: right;\">3</td><td style = \"text-align: right;\">3</td><td style = \"text-align: right;\">1</td><td style = \"text-align: right;\">3</td><td style = \"text-align: left;\">E4</td><td style = \"text-align: left;\">{&quot;width&quot;:130,&quot;height&quot;:25}</td></tr><tr><td class = \"rowNumber\" style = \"font-weight: bold; text-align: right;\">4</td><td style = \"text-align: right;\">4</td><td style = \"text-align: right;\">1</td><td style = \"text-align: right;\">4</td><td style = \"text-align: left;\">B7</td><td style = \"font-style: italic; text-align: left;\">missing</td></tr><tr><td class = \"rowNumber\" style = \"font-weight: bold; text-align: right;\">5</td><td style = \"text-align: right;\">5</td><td style = \"text-align: right;\">1</td><td style = \"text-align: right;\">5</td><td style = \"text-align: left;\">B7</td><td style = \"font-style: italic; text-align: left;\">missing</td></tr><tr><td class = \"rowNumber\" style = \"font-weight: bold; text-align: right;\">6</td><td style = \"text-align: right;\">6</td><td style = \"text-align: right;\">1</td><td style = \"text-align: right;\">6</td><td style = \"text-align: left;\">C7</td><td style = \"font-style: italic; text-align: left;\">missing</td></tr><tr><td class = \"rowNumber\" style = \"font-weight: bold; text-align: right;\">7</td><td style = \"text-align: right;\">7</td><td style = \"text-align: right;\">1</td><td style = \"text-align: right;\">7</td><td style = \"text-align: left;\">D7</td><td style = \"font-style: italic; text-align: left;\">missing</td></tr></tbody></table></div>"
      ],
      "text/latex": [
       "\\begin{tabular}{r|ccccc}\n",
       "\t& id & paper\\_id & accessor\\_id & cell & option\\\\\n",
       "\t\\hline\n",
       "\t& Int64 & Int64 & Int64 & String3 & String31?\\\\\n",
       "\t\\hline\n",
       "\t1 & 1 & 1 & 1 & B2 & \\emph{missing} \\\\\n",
       "\t2 & 2 & 1 & 2 & D4 & \\emph{missing} \\\\\n",
       "\t3 & 3 & 1 & 3 & E4 & \\{\"width\":130,\"height\":25\\} \\\\\n",
       "\t4 & 4 & 1 & 4 & B7 & \\emph{missing} \\\\\n",
       "\t5 & 5 & 1 & 5 & B7 & \\emph{missing} \\\\\n",
       "\t6 & 6 & 1 & 6 & C7 & \\emph{missing} \\\\\n",
       "\t7 & 7 & 1 & 7 & D7 & \\emph{missing} \\\\\n",
       "\\end{tabular}\n"
      ],
      "text/plain": [
       "\u001b[1m7×5 DataFrame\u001b[0m\n",
       "\u001b[1m Row \u001b[0m│\u001b[1m id    \u001b[0m\u001b[1m paper_id \u001b[0m\u001b[1m accessor_id \u001b[0m\u001b[1m cell    \u001b[0m\u001b[1m option                    \u001b[0m\n",
       "     │\u001b[90m Int64 \u001b[0m\u001b[90m Int64    \u001b[0m\u001b[90m Int64       \u001b[0m\u001b[90m String3 \u001b[0m\u001b[90m String31?                 \u001b[0m\n",
       "─────┼──────────────────────────────────────────────────────────────────\n",
       "   1 │     1         1            1  B2      \u001b[90m missing                   \u001b[0m\n",
       "   2 │     2         1            2  D4      \u001b[90m missing                   \u001b[0m\n",
       "   3 │     3         1            3  E4       {\"width\":130,\"height\":25}\n",
       "   4 │     4         1            4  B7      \u001b[90m missing                   \u001b[0m\n",
       "   5 │     5         1            5  B7      \u001b[90m missing                   \u001b[0m\n",
       "   6 │     6         1            6  C7      \u001b[90m missing                   \u001b[0m\n",
       "   7 │     7         1            7  D7      \u001b[90m missing                   \u001b[0m"
      ]
     },
     "metadata": {},
     "output_type": "display_data"
    },
    {
     "data": {
      "text/html": [
       "<div><div style = \"float: left;\"><span>7×6 DataFrame</span></div><div style = \"clear: both;\"></div></div><div class = \"data-frame\" style = \"overflow-x: scroll;\"><table class = \"data-frame\" style = \"margin-bottom: 6px;\"><thead><tr class = \"header\"><th class = \"rowNumber\" style = \"font-weight: bold; text-align: right;\">Row</th><th style = \"text-align: left;\">id</th><th style = \"text-align: left;\">paper_name</th><th style = \"text-align: left;\">cell</th><th style = \"text-align: left;\">type</th><th style = \"text-align: left;\">value</th><th style = \"text-align: left;\">option</th></tr><tr class = \"subheader headerLastRow\"><th class = \"rowNumber\" style = \"font-weight: bold; text-align: right;\"></th><th title = \"Int64\" style = \"text-align: left;\">Int64</th><th title = \"String7\" style = \"text-align: left;\">String7</th><th title = \"String3\" style = \"text-align: left;\">String3</th><th title = \"String15\" style = \"text-align: left;\">String15</th><th title = \"String31\" style = \"text-align: left;\">String31</th><th title = \"Union{Missing, String31}\" style = \"text-align: left;\">String31?</th></tr></thead><tbody><tr><td class = \"rowNumber\" style = \"font-weight: bold; text-align: right;\">1</td><td style = \"text-align: right;\">1</td><td style = \"text-align: left;\">Paper 1</td><td style = \"text-align: left;\">B2</td><td style = \"text-align: left;\">string</td><td style = \"text-align: left;\">company_name</td><td style = \"font-style: italic; text-align: left;\">missing</td></tr><tr><td class = \"rowNumber\" style = \"font-weight: bold; text-align: right;\">2</td><td style = \"text-align: right;\">2</td><td style = \"text-align: left;\">Paper 1</td><td style = \"text-align: left;\">D4</td><td style = \"text-align: left;\">checkbox</td><td style = \"text-align: left;\">is_xxx?</td><td style = \"font-style: italic; text-align: left;\">missing</td></tr><tr><td class = \"rowNumber\" style = \"font-weight: bold; text-align: right;\">3</td><td style = \"text-align: right;\">3</td><td style = \"text-align: left;\">Paper 1</td><td style = \"text-align: left;\">E4</td><td style = \"text-align: left;\">autoshape_oval</td><td style = \"text-align: left;\">yyy == ‘zzz’</td><td style = \"text-align: left;\">{&quot;width&quot;:130,&quot;height&quot;:25}</td></tr><tr><td class = \"rowNumber\" style = \"font-weight: bold; text-align: right;\">4</td><td style = \"text-align: right;\">4</td><td style = \"text-align: left;\">Paper 1</td><td style = \"text-align: left;\">B7</td><td style = \"text-align: left;\">array</td><td style = \"text-align: left;\">items</td><td style = \"font-style: italic; text-align: left;\">missing</td></tr><tr><td class = \"rowNumber\" style = \"font-weight: bold; text-align: right;\">5</td><td style = \"text-align: right;\">5</td><td style = \"text-align: left;\">Paper 1</td><td style = \"text-align: left;\">B7</td><td style = \"text-align: left;\">string</td><td style = \"text-align: left;\">name</td><td style = \"font-style: italic; text-align: left;\">missing</td></tr><tr><td class = \"rowNumber\" style = \"font-weight: bold; text-align: right;\">6</td><td style = \"text-align: right;\">6</td><td style = \"text-align: left;\">Paper 1</td><td style = \"text-align: left;\">C7</td><td style = \"text-align: left;\">number</td><td style = \"text-align: left;\">amount</td><td style = \"font-style: italic; text-align: left;\">missing</td></tr><tr><td class = \"rowNumber\" style = \"font-weight: bold; text-align: right;\">7</td><td style = \"text-align: right;\">7</td><td style = \"text-align: left;\">Paper 1</td><td style = \"text-align: left;\">D7</td><td style = \"text-align: left;\">number</td><td style = \"text-align: left;\">price</td><td style = \"font-style: italic; text-align: left;\">missing</td></tr></tbody></table></div>"
      ],
      "text/latex": [
       "\\begin{tabular}{r|cccccc}\n",
       "\t& id & paper\\_name & cell & type & value & option\\\\\n",
       "\t\\hline\n",
       "\t& Int64 & String7 & String3 & String15 & String31 & String31?\\\\\n",
       "\t\\hline\n",
       "\t1 & 1 & Paper 1 & B2 & string & company\\_name & \\emph{missing} \\\\\n",
       "\t2 & 2 & Paper 1 & D4 & checkbox & is\\_xxx? & \\emph{missing} \\\\\n",
       "\t3 & 3 & Paper 1 & E4 & autoshape\\_oval & yyy == ‘zzz’ & \\{\"width\":130,\"height\":25\\} \\\\\n",
       "\t4 & 4 & Paper 1 & B7 & array & items & \\emph{missing} \\\\\n",
       "\t5 & 5 & Paper 1 & B7 & string & name & \\emph{missing} \\\\\n",
       "\t6 & 6 & Paper 1 & C7 & number & amount & \\emph{missing} \\\\\n",
       "\t7 & 7 & Paper 1 & D7 & number & price & \\emph{missing} \\\\\n",
       "\\end{tabular}\n"
      ],
      "text/plain": [
       "\u001b[1m7×6 DataFrame\u001b[0m\n",
       "\u001b[1m Row \u001b[0m│\u001b[1m id    \u001b[0m\u001b[1m paper_name \u001b[0m\u001b[1m cell    \u001b[0m\u001b[1m type           \u001b[0m\u001b[1m value        \u001b[0m\u001b[1m option       \u001b[0m ⋯\n",
       "     │\u001b[90m Int64 \u001b[0m\u001b[90m String7    \u001b[0m\u001b[90m String3 \u001b[0m\u001b[90m String15       \u001b[0m\u001b[90m String31     \u001b[0m\u001b[90m String31?    \u001b[0m ⋯\n",
       "─────┼──────────────────────────────────────────────────────────────────────────\n",
       "   1 │     1  Paper 1     B2       string          company_name \u001b[90m missing      \u001b[0m ⋯\n",
       "   2 │     2  Paper 1     D4       checkbox        is_xxx?      \u001b[90m missing      \u001b[0m\n",
       "   3 │     3  Paper 1     E4       autoshape_oval  yyy == ‘zzz’  {\"width\":130,\n",
       "   4 │     4  Paper 1     B7       array           items        \u001b[90m missing      \u001b[0m\n",
       "   5 │     5  Paper 1     B7       string          name         \u001b[90m missing      \u001b[0m ⋯\n",
       "   6 │     6  Paper 1     C7       number          amount       \u001b[90m missing      \u001b[0m\n",
       "   7 │     7  Paper 1     D7       number          price        \u001b[90m missing      \u001b[0m\n",
       "\u001b[36m                                                                1 column omitted\u001b[0m"
      ]
     },
     "execution_count": 5,
     "metadata": {},
     "output_type": "execute_result"
    }
   ],
   "source": [
    "# paper_accessors\n",
    "paper_accessors = CSV.read(dir * \"paper_accessors.csv\", DataFrame)\n",
    "paper_accessors |> display\n",
    "@chain paper_accessors begin\n",
    "    innerjoin(select(papers, :id, :name => :paper_name), on= :paper_id => :id)\n",
    "    innerjoin(select(accessors, :id, :type, :value), on= :accessor_id => :id)\n",
    "    select(:id, :paper_name, :cell, :type, :value, :option)\n",
    "end"
   ]
  }
 ],
 "metadata": {
  "kernelspec": {
   "display_name": "Julia 1.9.0",
   "language": "julia",
   "name": "julia-1.9"
  },
  "language_info": {
   "file_extension": ".jl",
   "mimetype": "application/julia",
   "name": "julia",
   "version": "1.9.0"
  }
 },
 "nbformat": 4,
 "nbformat_minor": 5
}
